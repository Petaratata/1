{
 "cells": [
  {
   "cell_type": "code",
   "execution_count": 9,
   "id": "8a09cdee",
   "metadata": {},
   "outputs": [],
   "source": [
    "import pandas as pd"
   ]
  },
  {
   "cell_type": "code",
   "execution_count": 14,
   "id": "ec1fdb97",
   "metadata": {},
   "outputs": [
    {
     "data": {
      "text/html": [
       "<div>\n",
       "<style scoped>\n",
       "    .dataframe tbody tr th:only-of-type {\n",
       "        vertical-align: middle;\n",
       "    }\n",
       "\n",
       "    .dataframe tbody tr th {\n",
       "        vertical-align: top;\n",
       "    }\n",
       "\n",
       "    .dataframe thead th {\n",
       "        text-align: right;\n",
       "    }\n",
       "</style>\n",
       "<table border=\"1\" class=\"dataframe\">\n",
       "  <thead>\n",
       "    <tr style=\"text-align: right;\">\n",
       "      <th></th>\n",
       "      <th>name</th>\n",
       "      <th>mass_to_earth</th>\n",
       "    </tr>\n",
       "  </thead>\n",
       "  <tbody>\n",
       "    <tr>\n",
       "      <th>0</th>\n",
       "      <td>Earth</td>\n",
       "      <td>1.000</td>\n",
       "    </tr>\n",
       "    <tr>\n",
       "      <th>1</th>\n",
       "      <td>Moon</td>\n",
       "      <td>0.606</td>\n",
       "    </tr>\n",
       "    <tr>\n",
       "      <th>2</th>\n",
       "      <td>Mars</td>\n",
       "      <td>0.107</td>\n",
       "    </tr>\n",
       "  </tbody>\n",
       "</table>\n",
       "</div>"
      ],
      "text/plain": [
       "    name  mass_to_earth\n",
       "0  Earth          1.000\n",
       "1   Moon          0.606\n",
       "2   Mars          0.107"
      ]
     },
     "execution_count": 14,
     "metadata": {},
     "output_type": "execute_result"
    }
   ],
   "source": [
    "df = pd.DataFrame({'name': ['Earth', 'Moon', 'Mars'], 'mass_to_earth': [1, 0.606, 0.107]})\n",
    "df"
   ]
  },
  {
   "cell_type": "code",
   "execution_count": 15,
   "id": "e83daf60",
   "metadata": {},
   "outputs": [],
   "source": [
    "import pyautogui as pag  # библиотека для работы с приложениями (с её помощью можно заставить мышку нарисовать, а клавиатуру написать что душе угодно например Челн)"
   ]
  },
  {
   "cell_type": "code",
   "execution_count": 30,
   "id": "6ae631e7",
   "metadata": {},
   "outputs": [],
   "source": [
    "# pag.prompt(\"Окно с вводом текста\")\n",
    "# pag.alert(\"Окно с текстом\")\n",
    "# \\n - ENTER, можно напсать в выводе и сделает отступ, чтоб не все в одной строке\n",
    "\n",
    "#pag.FAILSAFE = False # спасет от защиты, НУЖЕН ТОЛКО ЕСЛИ ВЫЛАЗИТ ОШИБКА"
   ]
  },
  {
   "cell_type": "code",
   "execution_count": 31,
   "id": "bdec2d48",
   "metadata": {},
   "outputs": [],
   "source": [
    "#задание:\n",
    "#если вводим 1, тогда выводим данные из таблици\n",
    "#если 2, то выводим в КОНСОЛИ (текст снизу) 'лфоыдвоыфдв'\n",
    "#если что то еще, тогда выводим окно : [зачем вы написали (этот текст)]\n",
    "\n",
    "text = pag.prompt(\"Окно с вводом текстаааааа\")\n",
    "\n",
    "if text == \"1\":\n",
    "    pag.alert(\"сдесь может быть любой текст, \\n вторая строчка первый столбик === \" + df.name[1])\n",
    "    \n",
    "elif text == \"2\":\n",
    "    print('лфоыдвоыфдв')\n",
    "    \n",
    "else:\n",
    "    pag.alert('зачем вы это навписали: ' + text)"
   ]
  }
 ],
 "metadata": {
  "kernelspec": {
   "display_name": "Python 3 (ipykernel)",
   "language": "python",
   "name": "python3"
  },
  "language_info": {
   "codemirror_mode": {
    "name": "ipython",
    "version": 3
   },
   "file_extension": ".py",
   "mimetype": "text/x-python",
   "name": "python",
   "nbconvert_exporter": "python",
   "pygments_lexer": "ipython3",
   "version": "3.11.1"
  }
 },
 "nbformat": 4,
 "nbformat_minor": 5
}
